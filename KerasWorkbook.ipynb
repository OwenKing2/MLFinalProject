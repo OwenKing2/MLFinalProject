{
 "cells": [
  {
   "cell_type": "code",
   "execution_count": 1,
   "id": "183872e4",
   "metadata": {
    "code_folding": [
     0
    ]
   },
   "outputs": [],
   "source": [
    "#!pip install keras\n",
    "#!pip install tensorflow\n",
    "#!pip install scikeras\n",
    "#!pip install jupyter_contrib_nbextensions\n",
    "#!jupyter contrib nbextension install --user"
   ]
  },
  {
   "cell_type": "code",
   "execution_count": 2,
   "id": "84510277",
   "metadata": {},
   "outputs": [],
   "source": [
    "import csv\n",
    "import itertools\n",
    "import warnings\n",
    "import nltk\n",
    "import pandas as pd\n",
    "import sklearn\n",
    "import numpy as np\n",
    "import torch\n",
    "import torch.autograd as autograd\n",
    "import torch.nn as nn\n",
    "import torch.nn.functional as F\n",
    "import torch.optim as optim\n",
    "import tensorflow as tf\n",
    "from sklearn.model_selection import GridSearchCV\n",
    "from tensorflow.keras.layers import Input, Dense, InputLayer\n",
    "from tensorflow.keras.models import Sequential\n",
    "from tensorflow.keras.optimizers import Adam # - Works\n",
    "import matplotlib.pyplot as plt\n",
    "\n",
    "from scikeras.wrappers import KerasClassifier\n",
    "warnings.filterwarnings(action='ignore')"
   ]
  },
  {
   "cell_type": "code",
   "execution_count": 3,
   "id": "de068615",
   "metadata": {
    "code_folding": [
     0,
     11,
     38,
     50,
     80,
     108,
     140,
     148
    ]
   },
   "outputs": [],
   "source": [
    "def simplified_preprocessing(filename):\n",
    "    header = [\"train_id\", \"Sentence_1\", \"Sentence_2\", \"Output\"]\n",
    "    df = pd.read_csv(filename, sep='\\t', names=header, engine='python', encoding='utf8', error_bad_lines=False,\n",
    "                     quoting=csv.QUOTE_NONE)\n",
    "    # Make all words lowercase\n",
    "    df['Sentence_1'] = df['Sentence_1'].str.lower()\n",
    "    df['Sentence_2'] = df['Sentence_2'].str.lower()\n",
    "\n",
    "    return df\n",
    "\n",
    "\n",
    "def bleu_score(sentence1array, sentence2array):\n",
    "    features = pd.DataFrame(columns=[\"BLEU_1\", \"BLEU_2\", \"BLEU_3\", \"BLEU_4\"])\n",
    "    bleu1 = []\n",
    "    bleu2 = []\n",
    "    bleu3 = []\n",
    "    bleu4 = []\n",
    "\n",
    "    for (sentence_1, sentence_2) in itertools.zip_longest(sentence1array, sentence2array):\n",
    "        first_sentence = nltk.word_tokenize(sentence_1)\n",
    "        second_sentence = nltk.word_tokenize(sentence_2)\n",
    "        bleu1.append(nltk.translate.bleu_score.sentence_bleu([first_sentence], second_sentence,\n",
    "                                                             weights=[1]))\n",
    "        bleu2.append(nltk.translate.bleu_score.sentence_bleu([first_sentence], second_sentence,\n",
    "                                                             weights=[0.5, 0.5]))\n",
    "        bleu3.append(nltk.translate.bleu_score.sentence_bleu([first_sentence], second_sentence,\n",
    "                                                             weights=[1 / 3, 1 / 3, 1 / 3]))\n",
    "        bleu4.append(nltk.translate.bleu_score.sentence_bleu([first_sentence], second_sentence,\n",
    "                                                             weights=[1 / 4, 1 / 4, 1 / 4, 1 / 4]))\n",
    "\n",
    "    features[\"BLEU_1\"] = bleu1\n",
    "    features[\"BLEU_2\"] = bleu2\n",
    "    features[\"BLEU_3\"] = bleu3\n",
    "    features[\"BLEU_4\"] = bleu4\n",
    "\n",
    "    return features\n",
    "\n",
    "\n",
    "def meteor_scores(sentence1array, sentence2array):\n",
    "    features = pd.DataFrame(columns=[\"METEOR\"])\n",
    "\n",
    "    meteor_score = []\n",
    "    for (sentence_1, sentence_2) in itertools.zip_longest(sentence1array, sentence2array):\n",
    "        first_sentence = nltk.word_tokenize(sentence_1)\n",
    "        second_sentence = nltk.word_tokenize(sentence_2)\n",
    "        meteor_score.append(nltk.translate.meteor_score.single_meteor_score(first_sentence, second_sentence))\n",
    "    features[\"METEOR\"] = meteor_score\n",
    "    return features\n",
    "\n",
    "\n",
    "def character_bigrams_features(sentence1array, sentence2array):\n",
    "    features = pd.DataFrame(columns=[\"CharacterBigramUnion\", \"CharacterBigramIntersection\",\n",
    "                                     \"NumCharBigrams1\", \"NumCharBigrams2\",\n",
    "                                     ])\n",
    "    bigramUnion = []\n",
    "    bigramIntersection = []\n",
    "    numbigrams1 = []\n",
    "    numbigrams2 = []\n",
    "\n",
    "    for (sentence_1, sentence_2) in itertools.zip_longest(sentence1array, sentence2array):\n",
    "        sentence_1_no_spaces = sentence_1.replace(\" \", \"\")\n",
    "        sentence_2_no_spaces = sentence_2.replace(\" \", \"\")\n",
    "        sentence_1_char_bigrams = [sentence_1_no_spaces[i:i + 2] for i in range(len(sentence_1_no_spaces) - 1)]\n",
    "        sentence_2_char_bigrams = [sentence_2_no_spaces[i:i + 2] for i in range(len(sentence_2_no_spaces) - 1)]\n",
    "        bigram_matches = 0\n",
    "        for phrase in sentence_1_char_bigrams:\n",
    "            if phrase in sentence_2_char_bigrams:\n",
    "                bigram_matches += 1\n",
    "        bigramIntersection.append(bigram_matches)\n",
    "        bigramUnion.append(len(sentence_1_char_bigrams) + len(sentence_2_char_bigrams))\n",
    "        numbigrams1.append(len(sentence_1_char_bigrams))\n",
    "        numbigrams2.append(len(sentence_2_char_bigrams))\n",
    "    features[\"CharacterBigramUnion\"] = bigramUnion\n",
    "    features[\"CharacterBigramIntersection\"] = bigramIntersection\n",
    "    features[\"NumCharBigrams1\"] = numbigrams1\n",
    "    features[\"NumCharBigrams2\"] = numbigrams2\n",
    "\n",
    "    return features\n",
    "\n",
    "\n",
    "def word_unigram_features(sentence1array, sentence2array):\n",
    "    features = pd.DataFrame(columns=[\"SentenceUnigramUnion\", \"SentenceUnigramIntersection\",\n",
    "                                     \"NumSentUnigrams1\", \"NumSentUnigrams2\"])\n",
    "    unigramUnion = []\n",
    "    unigramIntersection = []\n",
    "    numunigrams1 = []\n",
    "    numunigrams2 = []\n",
    "\n",
    "    for (sentence_1, sentence_2) in itertools.zip_longest(sentence1array, sentence2array):\n",
    "        sentence_1_words = nltk.word_tokenize(sentence_1)\n",
    "        sentence_2_words = nltk.word_tokenize(sentence_2)\n",
    "        sentence_1_unigrams = list(nltk.ngrams(sentence_1_words, 1))\n",
    "        sentence_2_unigrams = list(nltk.ngrams(sentence_2_words, 1))\n",
    "        unigram_matches = 0\n",
    "        for phrase in sentence_1_unigrams:\n",
    "            if phrase in sentence_2_unigrams:\n",
    "                unigram_matches += 1\n",
    "        unigramIntersection.append(unigram_matches)\n",
    "        unigramUnion.append(len(sentence_1_unigrams) + len(sentence_2_unigrams))\n",
    "        numunigrams1.append(len(sentence_1_unigrams))\n",
    "        numunigrams2.append(len(sentence_2_unigrams))\n",
    "    features[\"SentenceUnigramUnion\"] = unigramUnion\n",
    "    features[\"SentenceUnigramIntersection\"] = unigramIntersection\n",
    "    features[\"NumSentUnigrams1\"] = numunigrams1\n",
    "    features[\"NumSentUnigrams2\"] = numunigrams2\n",
    "    return features\n",
    "\n",
    "\n",
    "def all_features(sentence1array, sentence2array):\n",
    "    features = pd.DataFrame(columns=[\n",
    "        \"BLEU_1\", \"BLEU_2\", \"BLEU_3\", \"BLEU_4\",\n",
    "        \"Meteor Score\",\n",
    "        \"CharacterBigramUnion\", \"CharacterBigramIntersection\", \"NumCharBigrams1\", \"NumCharBigrams2\",\n",
    "        \"SentenceUnigramUnion\", \"SentenceUnigramIntersection\", \"NumSentUnigrams1\", \"NumSentUnigrams2\",\n",
    "    ])\n",
    "    bleu_scores = bleu_score(sentence1array, sentence2array)\n",
    "\n",
    "    features[\"BLEU_1\"] = bleu_scores[\"BLEU_1\"]\n",
    "    features[\"BLEU_2\"] = bleu_scores[\"BLEU_2\"]\n",
    "    features[\"BLEU_3\"] = bleu_scores[\"BLEU_3\"]\n",
    "    features[\"BLEU_4\"] = bleu_scores[\"BLEU_4\"]\n",
    "\n",
    "    features[\"Meteor Score\"] = meteor_scores(sentence1array, sentence2array)\n",
    "\n",
    "    char_bigram = character_bigrams_features(sentence1array, sentence2array)\n",
    "    word_unigram = word_unigram_features(sentence1array, sentence2array)\n",
    "\n",
    "    features[\"CharacterBigramUnion\"] = char_bigram[\"CharacterBigramUnion\"]\n",
    "    features[\"CharacterBigramIntersection\"] = char_bigram[\"CharacterBigramIntersection\"]\n",
    "    features[\"NumCharBigrams1\"] = char_bigram[\"NumCharBigrams1\"]\n",
    "    features[\"NumCharBigrams2\"] = char_bigram[\"NumCharBigrams2\"]\n",
    "\n",
    "    features[\"SentenceUnigramUnion\"] = word_unigram[\"SentenceUnigramUnion\"]\n",
    "    features[\"SentenceUnigramIntersection\"] = word_unigram[\"SentenceUnigramIntersection\"]\n",
    "    features[\"NumSentUnigrams1\"] = word_unigram[\"NumSentUnigrams1\"]\n",
    "    features[\"NumSentUnigrams2\"] = word_unigram[\"NumSentUnigrams2\"]\n",
    "\n",
    "    return features\n",
    "\n",
    "\n",
    "def get_device():\n",
    "    if torch.cuda.is_available():\n",
    "        device = torch.device('cuda:0')\n",
    "    else:\n",
    "        device = torch.device('cpu')  # don't have GPU\n",
    "    return device\n",
    "\n",
    "\n",
    "def df_to_tensor(df):\n",
    "    device = get_device()\n",
    "    return torch.from_numpy(df.values).float().to(device)"
   ]
  },
  {
   "cell_type": "code",
   "execution_count": 4,
   "id": "b992497b",
   "metadata": {},
   "outputs": [],
   "source": [
    "# nltk.download('punkt')\n",
    "# nltk.download('wordnet')"
   ]
  },
  {
   "cell_type": "code",
   "execution_count": 5,
   "id": "d18e7ab6",
   "metadata": {},
   "outputs": [],
   "source": [
    "training_data = simplified_preprocessing(\"train_with_label.txt\")\n",
    "X = all_features(training_data[\"Sentence_1\"], training_data[\"Sentence_2\"])\n",
    "y = training_data[\"Output\"]\n",
    "\n",
    "dev_data = simplified_preprocessing(\"dev_with_label.txt\")\n",
    "Xdev = all_features(dev_data[\"Sentence_1\"], dev_data[\"Sentence_2\"])\n",
    "ydev = dev_data[\"Output\"]"
   ]
  },
  {
   "cell_type": "code",
   "execution_count": 6,
   "id": "87bb2265",
   "metadata": {},
   "outputs": [
    {
     "name": "stdout",
     "output_type": "stream",
     "text": [
      "Model: \"sequential\"\n",
      "_________________________________________________________________\n",
      " Layer (type)                Output Shape              Param #   \n",
      "=================================================================\n",
      " dense (Dense)               (None, 2)                 28        \n",
      "                                                                 \n",
      "=================================================================\n",
      "Total params: 28\n",
      "Trainable params: 28\n",
      "Non-trainable params: 0\n",
      "_________________________________________________________________\n"
     ]
    }
   ],
   "source": [
    "number_of_classes = 2\n",
    "number_of_features = 13\n",
    "model = Sequential()\n",
    "model.add(Dense(number_of_classes, activation='sigmoid', input_dim=number_of_features))\n",
    "model.compile(optimizer='adam', loss='binary_crossentropy')\n",
    "model.summary()"
   ]
  },
  {
   "cell_type": "code",
   "execution_count": 7,
   "id": "1d7d9fca",
   "metadata": {},
   "outputs": [
    {
     "name": "stdout",
     "output_type": "stream",
     "text": [
      "(7801, 13)\n",
      "(7801,)\n",
      "(4000, 13)\n",
      "(4000,)\n"
     ]
    }
   ],
   "source": [
    "print(X.shape)\n",
    "print(y.shape)\n",
    "print(Xdev.shape)\n",
    "print(ydev.shape)"
   ]
  },
  {
   "cell_type": "code",
   "execution_count": 8,
   "id": "7db3f51f",
   "metadata": {},
   "outputs": [
    {
     "name": "stdout",
     "output_type": "stream",
     "text": [
      "Model: \"sequential_1\"\n",
      "_________________________________________________________________\n",
      " Layer (type)                Output Shape              Param #   \n",
      "=================================================================\n",
      " dense_1 (Dense)             (None, 1)                 14        \n",
      "                                                                 \n",
      "=================================================================\n",
      "Total params: 14\n",
      "Trainable params: 14\n",
      "Non-trainable params: 0\n",
      "_________________________________________________________________\n"
     ]
    }
   ],
   "source": [
    "ANN_model = Sequential()\n",
    "ANN_model.add(InputLayer(13,))\n",
    "ANN_model.add(Dense(1,activation='sigmoid'))\n",
    "ANN_model.summary()"
   ]
  },
  {
   "cell_type": "code",
   "execution_count": 9,
   "id": "fceea44c",
   "metadata": {},
   "outputs": [
    {
     "name": "stdout",
     "output_type": "stream",
     "text": [
      "Epoch 1/10\n",
      "195/195 [==============================] - 1s 4ms/step - loss: 4.1182 - accuracy: 0.7402 - val_loss: 0.3290 - val_accuracy: 0.8661\n",
      "Epoch 2/10\n",
      "195/195 [==============================] - 1s 3ms/step - loss: 0.4692 - accuracy: 0.8293 - val_loss: 0.3188 - val_accuracy: 0.8732\n",
      "Epoch 3/10\n",
      "195/195 [==============================] - 0s 2ms/step - loss: 0.4660 - accuracy: 0.8399 - val_loss: 0.3136 - val_accuracy: 0.8808\n",
      "Epoch 4/10\n",
      "195/195 [==============================] - 0s 2ms/step - loss: 0.4656 - accuracy: 0.8449 - val_loss: 0.2977 - val_accuracy: 0.8853\n",
      "Epoch 5/10\n",
      "195/195 [==============================] - 1s 3ms/step - loss: 0.5022 - accuracy: 0.8421 - val_loss: 0.3618 - val_accuracy: 0.8732\n",
      "Epoch 6/10\n",
      "195/195 [==============================] - 1s 4ms/step - loss: 0.4937 - accuracy: 0.8439 - val_loss: 0.3604 - val_accuracy: 0.8725\n",
      "Epoch 7/10\n",
      "195/195 [==============================] - 0s 2ms/step - loss: 0.5366 - accuracy: 0.8389 - val_loss: 0.5345 - val_accuracy: 0.8495\n",
      "Epoch 8/10\n",
      "195/195 [==============================] - 0s 2ms/step - loss: 0.4457 - accuracy: 0.8580 - val_loss: 0.2913 - val_accuracy: 0.8917\n",
      "Epoch 9/10\n",
      "195/195 [==============================] - 0s 2ms/step - loss: 0.4822 - accuracy: 0.8473 - val_loss: 0.3222 - val_accuracy: 0.8783\n",
      "Epoch 10/10\n",
      "195/195 [==============================] - 0s 2ms/step - loss: 0.4999 - accuracy: 0.8449 - val_loss: 0.4595 - val_accuracy: 0.8565\n"
     ]
    }
   ],
   "source": [
    "optimizer= tf.keras.optimizers.Adam(learning_rate=0.05)\n",
    "ANN_model.compile(\n",
    "    optimizer=optimizer,\n",
    "                  loss='binary_crossentropy',\n",
    "                  metrics=['accuracy'])\n",
    "\n",
    "history = ANN_model.fit(X, y, \n",
    "                        epochs=10, batch_size=32,\n",
    "                        validation_split=0.2, \n",
    "                        shuffle=False)"
   ]
  },
  {
   "cell_type": "code",
   "execution_count": 10,
   "id": "ec8a1c7a",
   "metadata": {},
   "outputs": [
    {
     "data": {
      "text/plain": [
       "<matplotlib.legend.Legend at 0x1ce649a4940>"
      ]
     },
     "execution_count": 10,
     "metadata": {},
     "output_type": "execute_result"
    },
    {
     "data": {
      "image/png": "[encoded data removed]",
      "text/plain": [
       "<Figure size 432x288 with 1 Axes>"
      ]
     },
     "metadata": {
      "needs_background": "light"
     },
     "output_type": "display_data"
    }
   ],
   "source": [
    "# Plot training and validation accuracy scores\n",
    "# against the number of epochs.\n",
    "plt.plot(history.history['accuracy'], label='Train')\n",
    "plt.plot(history.history['val_accuracy'], label='Validation')\n",
    "plt.ylabel('Accuracy')\n",
    "plt.xlabel('Epoch')\n",
    "plt.title('Model Accuracy')\n",
    "plt.legend(loc='upper left')"
   ]
  },
  {
   "cell_type": "code",
   "execution_count": 11,
   "id": "516f641c",
   "metadata": {},
   "outputs": [
    {
     "data": {
      "text/plain": [
       "<matplotlib.legend.Legend at 0x1ce65cf6be0>"
      ]
     },
     "execution_count": 11,
     "metadata": {},
     "output_type": "execute_result"
    },
    {
     "data": {
      "image/png": "[encoded data removed]",
      "text/plain": [
       "<Figure size 432x288 with 1 Axes>"
      ]
     },
     "metadata": {
      "needs_background": "light"
     },
     "output_type": "display_data"
    }
   ],
   "source": [
    "# Plot training and validation loss scores\n",
    "# against the number of epochs.\n",
    "plt.plot(history.history['loss'], label='Train')\n",
    "plt.plot(history.history['val_loss'], label='Validation')\n",
    "plt.ylabel('Loss')\n",
    "plt.xlabel('Epoch')\n",
    "plt.title('Model Loss')\n",
    "plt.legend(loc='upper right')"
   ]
  },
  {
   "cell_type": "code",
   "execution_count": 12,
   "id": "965f164f",
   "metadata": {},
   "outputs": [
    {
     "name": "stdout",
     "output_type": "stream",
     "text": [
      "125/125 [==============================] - 0s 2ms/step - loss: 0.5258 - accuracy: 0.8375\n",
      "Test loss: 0.5257931351661682\n",
      "Test accuracy: 0.8374999761581421\n"
     ]
    }
   ],
   "source": [
    "test_loss, test_acc = ANN_model.evaluate(Xdev, ydev)\n",
    "print(\"Test loss:\", test_loss)\n",
    "print(\"Test accuracy:\", test_acc)"
   ]
  },
  {
   "cell_type": "code",
   "execution_count": null,
   "id": "747780bb",
   "metadata": {},
   "outputs": [],
   "source": []
  }
 ],
 "metadata": {
  "kernelspec": {
   "display_name": "Python 3 (ipykernel)",
   "language": "python",
   "name": "python3"
  },
  "language_info": {
   "codemirror_mode": {
    "name": "ipython",
    "version": 3
   },
   "file_extension": ".py",
   "mimetype": "text/x-python",
   "name": "python",
   "nbconvert_exporter": "python",
   "pygments_lexer": "ipython3",
   "version": "3.9.7"
  }
 },
 "nbformat": 4,
 "nbformat_minor": 5
}
